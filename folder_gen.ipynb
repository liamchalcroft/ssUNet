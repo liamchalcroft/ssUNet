{
 "cells": [
  {
   "cell_type": "code",
   "execution_count": 1,
   "metadata": {},
   "outputs": [],
   "source": [
    "import glob\n",
    "import os\n",
    "from random import shuffle\n",
    "from shutil import copyfile\n",
    "import numpy as np\n",
    "import json"
   ]
  },
  {
   "cell_type": "code",
   "execution_count": 2,
   "metadata": {},
   "outputs": [],
   "source": [
    "def subfiles(folder, join = True, prefix = None, suffix = None, sort = True):\n",
    "    if join:\n",
    "        l = os.path.join\n",
    "    else:\n",
    "        l = lambda x, y: y\n",
    "    res = [l(folder, i) for i in os.listdir(folder) if os.path.isfile(os.path.join(folder, i))\n",
    "           and (prefix is None or i.startswith(prefix))\n",
    "           and (suffix is None or i.endswith(suffix))]\n",
    "    if sort:\n",
    "        res.sort()\n",
    "    return res\n",
    "\n",
    "def save_json(obj, file: str, indent: int = 4, sort_keys: bool = True) -> None:\n",
    "    with open(file, 'w') as f:\n",
    "        json.dump(obj, f, sort_keys=sort_keys, indent=indent)"
   ]
  },
  {
   "cell_type": "code",
   "execution_count": 3,
   "metadata": {},
   "outputs": [],
   "source": [
    "img = glob.glob('/Users/liamchalcroft/Desktop/MRES/Data/CT-MR/train/MR/train/img*.nii.gz')"
   ]
  },
  {
   "cell_type": "code",
   "execution_count": 4,
   "metadata": {},
   "outputs": [],
   "source": [
    "# img = glob.glob('/home/lchalcroft/Data/ATLAS_R2.0/Training/R*/sub-r*/ses-*/anat/sub*_T1w.nii.gz')\n",
    "# # img  = img[:16]\n",
    "# lab = [img_.replace('T1w', 'label-L_desc-T1lesion_mask') for img_ in img]\n",
    "# img = ['/'+os.path.join(*image.split('/')[:-1])+'/n4_stripped.nii.gz' for image in img]\n",
    "\n",
    "# img_test = glob.glob('/home/lchalcroft/Data/ATLAS_R2.0/Testing/R*/sub-r*/ses-*/anat/sub*_T1w.nii.gz')\n",
    "# img_test = ['/'+os.path.join(*image.split('/')[:-1])+'/n4_stripped.nii.gz' for image in img_test]\n",
    "# # img_test = img[:4]"
   ]
  },
  {
   "cell_type": "code",
   "execution_count": 25,
   "metadata": {},
   "outputs": [],
   "source": [
    "odir = '/Users/liamchalcroft/Desktop/MRES/ssunet-test/nnUNet_raw_data_base/nnUNet_raw_data/Task001_ATLASTEST'\n",
    "name = 'ATLASTEST'"
   ]
  },
  {
   "cell_type": "code",
   "execution_count": 21,
   "metadata": {},
   "outputs": [],
   "source": [
    "os.makedirs(os.path.join(odir,'imagesTr'), exist_ok=True)\n",
    "# os.makedirs(os.path.join(odir,'labelsTr'), exist_ok=True)\n",
    "# os.makedirs(os.path.join(odir,'imagesTs'), exist_ok=True)\n",
    "# os.makedirs(os.path.join(odir,'labelsTs'), exist_ok=True)"
   ]
  },
  {
   "cell_type": "code",
   "execution_count": 22,
   "metadata": {},
   "outputs": [],
   "source": [
    "for i, img_ in enumerate(img):\n",
    "    copyfile(img_,os.path.join(odir,'imagesTr',name+'_%04d_0000.nii.gz' % (i+1)))\n",
    "\n",
    "# for i, (img_, lab_) in enumerate(zip(img, lab)):\n",
    "#     copyfile(img_,os.path.join(odir,'imagesTr',name+'_%04d_0000.nii.gz' % (i+1)))\n",
    "#     copyfile(lab_,os.path.join(odir,'labelsTr',name+'_%04d.nii.gz' % (i+1)))\n",
    "\n",
    "\n",
    "# for i, img_ in enumerate(img_test):\n",
    "#     copyfile(img_,os.path.join(odir,'imagesTs',name+'_%04d_0000.nii.gz' % (i+1)))"
   ]
  },
  {
   "cell_type": "code",
   "execution_count": 23,
   "metadata": {},
   "outputs": [],
   "source": [
    "def get_identifiers_from_splitted_files(folder: str):\n",
    "    uniques = np.unique([i[:-12] for i in subfiles(folder, suffix='.nii.gz', join=False)])\n",
    "    return uniques"
   ]
  },
  {
   "cell_type": "code",
   "execution_count": 24,
   "metadata": {},
   "outputs": [],
   "source": [
    "train_identifiers = get_identifiers_from_splitted_files(os.path.join(odir,'imagesTr'))\n",
    "# test_identifiers = get_identifiers_from_splitted_files(os.path.join(odir,'imagesTs'))\n",
    "\n",
    "json_dict = {}\n",
    "json_dict['name'] = name\n",
    "json_dict['description'] = 'Stroke Lesion Segmentation'\n",
    "json_dict['tensorImageSize'] = \"4D\"\n",
    "json_dict['reference'] = \"BLANK\"\n",
    "json_dict['licence'] = 'BLANK'\n",
    "json_dict['release'] = 'BLANK'\n",
    "json_dict['modality'] = {'0': 'T1'}\n",
    "# json_dict['labels'] = {'0': 'Background', '1': 'Lesion'}\n",
    "\n",
    "json_dict['numTraining'] = len(train_identifiers)\n",
    "# json_dict['numTest'] = len(test_identifiers)\n",
    "# json_dict['training'] = [\n",
    "#     {'image': os.path.join(odir,\"imagesTr/%s_0000.nii.gz\" % i), \"label\": os.path.join(odir,\"labelsTr/%s.nii.gz\" % i)} for i\n",
    "#     in\n",
    "#     train_identifiers]\n",
    "json_dict['training'] = [\n",
    "    {'image': os.path.join(odir,\"imagesTr/%s_0000.nii.gz\" % i)} for i\n",
    "    in\n",
    "    train_identifiers]\n",
    "# json_dict['test'] = [os.path.join(odir,\"imagesTs/%s.nii.gz\" % i) for i in test_identifiers]\n",
    "\n",
    "save_json(json_dict, os.path.join(odir,'dataset.json'))"
   ]
  },
  {
   "cell_type": "code",
   "execution_count": null,
   "metadata": {},
   "outputs": [],
   "source": []
  }
 ],
 "metadata": {
  "interpreter": {
   "hash": "545e036c4b32438aced1f6b3c8d38ca151d9c36189e05839cb0aa568fda70ddd"
  },
  "kernelspec": {
   "display_name": "Python ('crossmoda-mps')",
   "language": "python",
   "name": "python3"
  },
  "language_info": {
   "codemirror_mode": {
    "name": "ipython",
    "version": 3
   },
   "file_extension": ".py",
   "mimetype": "text/x-python",
   "name": "python",
   "nbconvert_exporter": "python",
   "pygments_lexer": "ipython3",
   "version": "3.8.11"
  },
  "orig_nbformat": 4
 },
 "nbformat": 4,
 "nbformat_minor": 2
}
