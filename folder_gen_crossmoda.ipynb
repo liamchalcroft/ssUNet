{
 "cells": [
  {
   "cell_type": "code",
   "execution_count": 1,
   "metadata": {},
   "outputs": [],
   "source": [
    "import glob\n",
    "import os\n",
    "from random import shuffle\n",
    "from shutil import copyfile\n",
    "import numpy as np\n",
    "import json\n",
    "import nibabel as nb"
   ]
  },
  {
   "cell_type": "code",
   "execution_count": 2,
   "metadata": {},
   "outputs": [],
   "source": [
    "def subfiles(folder, join = True, prefix = None, suffix = None, sort = True):\n",
    "    if join:\n",
    "        l = os.path.join\n",
    "    else:\n",
    "        l = lambda x, y: y\n",
    "    res = [l(folder, i) for i in os.listdir(folder) if os.path.isfile(os.path.join(folder, i))\n",
    "           and (prefix is None or i.startswith(prefix))\n",
    "           and (suffix is None or i.endswith(suffix))]\n",
    "    if sort:\n",
    "        res.sort()\n",
    "    return res\n",
    "\n",
    "def save_json(obj, file: str, indent: int = 4, sort_keys: bool = True) -> None:\n",
    "    with open(file, 'w') as f:\n",
    "        json.dump(obj, f, sort_keys=sort_keys, indent=indent)"
   ]
  },
  {
   "cell_type": "code",
   "execution_count": 3,
   "metadata": {},
   "outputs": [],
   "source": [
    "img = glob.glob('/Users/liamchalcroft/Desktop/MRES/Data/crossmoda/training/target_training/crossmoda_*/full_nv_crossmoda_*_hrT2.nii.gz') + \\\n",
    "    glob.glob('/Users/liamchalcroft/Desktop/MRES/Data/crossmoda/training/source_training/crossmoda_*/full_nv_crossmoda_*_ceT1.nii.gz')\n",
    "lab = [[\n",
    "    img_.replace('nv', 'c'+str(i)+'nv')\n",
    "    for i in range(1,7)] for img_ in img]"
   ]
  },
  {
   "cell_type": "code",
   "execution_count": 4,
   "metadata": {},
   "outputs": [
    {
     "name": "stdout",
     "output_type": "stream",
     "text": [
      "/Users/liamchalcroft/Desktop/MRES/Data/crossmoda/training/target_training/crossmoda_125/full_nv_crossmoda_125_hrT2.nii.gz\n",
      "['/Users/liamchalcroft/Desktop/MRES/Data/crossmoda/training/target_training/crossmoda_125/full_c1nv_crossmoda_125_hrT2.nii.gz', '/Users/liamchalcroft/Desktop/MRES/Data/crossmoda/training/target_training/crossmoda_125/full_c2nv_crossmoda_125_hrT2.nii.gz', '/Users/liamchalcroft/Desktop/MRES/Data/crossmoda/training/target_training/crossmoda_125/full_c3nv_crossmoda_125_hrT2.nii.gz', '/Users/liamchalcroft/Desktop/MRES/Data/crossmoda/training/target_training/crossmoda_125/full_c4nv_crossmoda_125_hrT2.nii.gz', '/Users/liamchalcroft/Desktop/MRES/Data/crossmoda/training/target_training/crossmoda_125/full_c5nv_crossmoda_125_hrT2.nii.gz', '/Users/liamchalcroft/Desktop/MRES/Data/crossmoda/training/target_training/crossmoda_125/full_c6nv_crossmoda_125_hrT2.nii.gz']\n"
     ]
    }
   ],
   "source": [
    "print(img[0])\n",
    "print(lab[0])"
   ]
  },
  {
   "cell_type": "code",
   "execution_count": 5,
   "metadata": {},
   "outputs": [],
   "source": [
    "im_ = nb.load(img[0])"
   ]
  },
  {
   "cell_type": "code",
   "execution_count": 6,
   "metadata": {},
   "outputs": [
    {
     "data": {
      "text/plain": [
       "(313, 377, 105)"
      ]
     },
     "execution_count": 6,
     "metadata": {},
     "output_type": "execute_result"
    }
   ],
   "source": [
    "im_.get_fdata().shape"
   ]
  },
  {
   "cell_type": "code",
   "execution_count": 7,
   "metadata": {},
   "outputs": [],
   "source": [
    "odir = '/Users/liamchalcroft/Desktop/MRES/ssunet-test/nnUNet_raw_data_base/nnUNet_raw_data/Task003_CROSSMODA_PRETRAIN'\n",
    "name = 'CROSSMODA_PRETRAIN'"
   ]
  },
  {
   "cell_type": "code",
   "execution_count": 8,
   "metadata": {},
   "outputs": [],
   "source": [
    "os.makedirs(os.path.join(odir,'imagesTr'), exist_ok=True)\n",
    "os.makedirs(os.path.join(odir,'labelsTr'), exist_ok=True)\n",
    "os.makedirs(os.path.join(odir,'imagesTs'), exist_ok=True)"
   ]
  },
  {
   "cell_type": "code",
   "execution_count": 9,
   "metadata": {},
   "outputs": [],
   "source": [
    "for i, (img_, lab_) in enumerate(zip(img, lab)):\n",
    "    img_load = nb.load(img_)\n",
    "    nb.save(img_load, os.path.join(odir,'imagesTr',name+'_%04d_0000.nii.gz' % (i+1)))\n",
    "\n",
    "    lab_load = [nb.load(label) for label in lab_]\n",
    "    lab_data = np.stack([label.get_fdata() for label in lab_load])\n",
    "    lab_data = lab_data[[5,0,1,2,3,4]]\n",
    "    # lab_data = np.argmax(lab_data, axis=0)\n",
    "    lab_data = nb.Nifti1Image(lab_data, lab_load[0].affine, lab_load[0].header)\n",
    "    nb.save(lab_data, os.path.join(odir,'labelsTr',name+'_%04d.nii.gz' % (i+1)))        "
   ]
  },
  {
   "cell_type": "code",
   "execution_count": 10,
   "metadata": {},
   "outputs": [],
   "source": [
    "def get_identifiers_from_splitted_files(folder: str):\n",
    "    uniques = np.unique([i[:-12] for i in subfiles(folder, suffix='.nii.gz', join=False)])\n",
    "    return uniques"
   ]
  },
  {
   "cell_type": "code",
   "execution_count": 11,
   "metadata": {},
   "outputs": [],
   "source": [
    "train_identifiers = get_identifiers_from_splitted_files(os.path.join(odir,'imagesTr'))\n",
    "\n",
    "json_dict = {}\n",
    "json_dict['name'] = name\n",
    "json_dict['description'] = 'Vestibular Schwanoma Segmentation'\n",
    "json_dict['tensorImageSize'] = \"4D\"\n",
    "json_dict['reference'] = \"BLANK\"\n",
    "json_dict['licence'] = 'BLANK'\n",
    "json_dict['release'] = 'BLANK'\n",
    "json_dict['modality'] = {'0': 'T1/T2'}\n",
    "json_dict['labels'] = {'0': 'Background', '1': 'WM', '2': 'GM', '3': 'CSF', '4': 'Non-brain', '5': 'Skull'}\n",
    "\n",
    "json_dict['numTraining'] = len(train_identifiers)\n",
    "json_dict['numTest'] = 0\n",
    "json_dict['training'] = [\n",
    "    {'image': os.path.join(odir,\"imagesTr/%s.nii.gz\" % i), \n",
    "    \"label\": os.path.join(odir,\"labelsTr/%s.nii.gz\" % i),\n",
    "    } for i\n",
    "    in\n",
    "    train_identifiers]\n",
    "json_dict['test'] = []\n",
    "\n",
    "save_json(json_dict, os.path.join(odir,'dataset.json'))"
   ]
  },
  {
   "cell_type": "code",
   "execution_count": 12,
   "metadata": {},
   "outputs": [
    {
     "data": {
      "text/plain": [
       "{'image': '/Users/liamchalcroft/Desktop/MRES/ssunet-test/nnUNet_raw_data_base/nnUNet_raw_data/Task003_CROSSMODA_PRETRAIN/imagesTr/CROSSMODA_PRETRAIN_0001.nii.gz',\n",
       " 'label': '/Users/liamchalcroft/Desktop/MRES/ssunet-test/nnUNet_raw_data_base/nnUNet_raw_data/Task003_CROSSMODA_PRETRAIN/labelsTr/CROSSMODA_PRETRAIN_0001.nii.gz'}"
      ]
     },
     "execution_count": 12,
     "metadata": {},
     "output_type": "execute_result"
    }
   ],
   "source": [
    "json_dict['training'][0]"
   ]
  }
 ],
 "metadata": {
  "kernelspec": {
   "display_name": "Python 3.8.11",
   "language": "python",
   "name": "python3"
  },
  "language_info": {
   "codemirror_mode": {
    "name": "ipython",
    "version": 3
   },
   "file_extension": ".py",
   "mimetype": "text/x-python",
   "name": "python",
   "nbconvert_exporter": "python",
   "pygments_lexer": "ipython3",
   "version": "3.8.11"
  },
  "orig_nbformat": 4,
  "vscode": {
   "interpreter": {
    "hash": "4adae735dce8007146d02e24e2cb822c1fa5e05a4cb3c0023080bcf8a4301a77"
   }
  }
 },
 "nbformat": 4,
 "nbformat_minor": 2
}
